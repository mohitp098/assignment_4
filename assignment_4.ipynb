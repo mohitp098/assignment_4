{
 "cells": [
  {
   "cell_type": "code",
   "execution_count": 20,
   "id": "75f71beb",
   "metadata": {},
   "outputs": [
    {
     "data": {
      "text/plain": [
       "[35]"
      ]
     },
     "execution_count": 20,
     "metadata": {},
     "output_type": "execute_result"
    }
   ],
   "source": [
    "## Write a Python program to create a lambda function that adds 25 to a given number passed in as an argument.\n",
    "\n",
    "list(map(lambda x : x+25,[10]))"
   ]
  },
  {
   "cell_type": "code",
   "execution_count": 8,
   "id": "e87f0b0b",
   "metadata": {},
   "outputs": [
    {
     "data": {
      "text/plain": [
       "[3, 6, 9, 12, 15, 18, 21]"
      ]
     },
     "execution_count": 8,
     "metadata": {},
     "output_type": "execute_result"
    }
   ],
   "source": [
    "##Write a Python program to triple all numbers of a given list of integers. Use Python map.\n",
    "\n",
    "list(map(lambda x : x*3,[1,2,3,4,5,6,7]))"
   ]
  },
  {
   "cell_type": "code",
   "execution_count": 14,
   "id": "e19dcb52",
   "metadata": {},
   "outputs": [
    {
     "data": {
      "text/plain": [
       "[16, 25, 4, 81]"
      ]
     },
     "execution_count": 14,
     "metadata": {},
     "output_type": "execute_result"
    }
   ],
   "source": [
    "##Write a Python program to square the elements of a list using map() function.\n",
    "\n",
    "list(map(lambda x : x**2,[4,5,2,9]))\n"
   ]
  },
  {
   "cell_type": "code",
   "execution_count": null,
   "id": "63516346",
   "metadata": {},
   "outputs": [],
   "source": []
  }
 ],
 "metadata": {
  "kernelspec": {
   "display_name": "Python 3 (ipykernel)",
   "language": "python",
   "name": "python3"
  },
  "language_info": {
   "codemirror_mode": {
    "name": "ipython",
    "version": 3
   },
   "file_extension": ".py",
   "mimetype": "text/x-python",
   "name": "python",
   "nbconvert_exporter": "python",
   "pygments_lexer": "ipython3",
   "version": "3.9.6"
  }
 },
 "nbformat": 4,
 "nbformat_minor": 5
}
